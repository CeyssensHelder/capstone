{
 "cells": [
  {
   "cell_type": "code",
   "execution_count": 1,
   "metadata": {},
   "outputs": [],
   "source": [
    "#here we will be using the data from the previous notebook to create different models and compare them to see which one is the best\n",
    "\n",
    "# Importing the libraries\n",
    "import numpy as np\n",
    "import matplotlib.pyplot as plt\n",
    "import pandas as pd\n",
    "import seaborn as sns\n",
    "import pickle\n",
    "from sklearn.model_selection import train_test_split\n",
    "from sklearn.preprocessing import StandardScaler\n",
    "from sklearn.metrics import confusion_matrix, accuracy_score, classification_report\n",
    "from sklearn.model_selection import cross_val_score\n",
    "from sklearn.model_selection import GridSearchCV\n",
    "\n",
    "from sklearn.linear_model import LogisticRegression\n",
    "from sklearn.neighbors import KNeighborsClassifier\n",
    "from sklearn.svm import SVC\n",
    "from sklearn.naive_bayes import GaussianNB\n",
    "from sklearn.tree import DecisionTreeClassifier\n",
    "from sklearn.ensemble import RandomForestClassifier\n",
    "\n",
    "from cslib import fetch_data, engineer_features, convert_to_ts, fetch_ts\n",
    "from model import model_train, model_load, model_predict, _model_train"
   ]
  },
  {
   "cell_type": "code",
   "execution_count": 2,
   "metadata": {},
   "outputs": [],
   "source": [
    "# getting the data directory\n",
    "data_dir = 'data/cs-train'"
   ]
  },
  {
   "cell_type": "code",
   "execution_count": 3,
   "metadata": {},
   "outputs": [
    {
     "name": "stdout",
     "output_type": "stream",
     "text": [
      "... loading ts data from files\n",
      "... saving model: models\\sl-all-0_1.joblib\n",
      "... saving model: models\\sl-eire-0_1.joblib\n",
      "... saving model: models\\sl-france-0_1.joblib\n",
      "... saving model: models\\sl-germany-0_1.joblib\n",
      "... saving model: models\\sl-hong_kong-0_1.joblib\n",
      "... saving model: models\\sl-netherlands-0_1.joblib\n",
      "... saving model: models\\sl-norway-0_1.joblib\n",
      "... saving model: models\\sl-portugal-0_1.joblib\n",
      "... saving model: models\\sl-singapore-0_1.joblib\n",
      "... saving model: models\\sl-spain-0_1.joblib\n",
      "... saving model: models\\sl-united_kingdom-0_1.joblib\n"
     ]
    }
   ],
   "source": [
    "# train the model\n",
    "model_train(data_dir)"
   ]
  },
  {
   "cell_type": "code",
   "execution_count": 4,
   "metadata": {},
   "outputs": [
    {
     "name": "stdout",
     "output_type": "stream",
     "text": [
      "... loading ts data from files\n",
      "all_data:  all, eire, france, germany, hong_kong, netherlands, norway, portugal, singapore, spain, united_kingdom\n"
     ]
    }
   ],
   "source": [
    "# load the model\n",
    "all_data, all_models = model_load(data_dir=data_dir)\n",
    "print(\"all_data: \", \", \".join(all_models.keys()))"
   ]
  },
  {
   "cell_type": "code",
   "execution_count": 4,
   "metadata": {},
   "outputs": [
    {
     "name": "stdout",
     "output_type": "stream",
     "text": [
      "... loading ts data from files\n",
      "2018-01-05\n",
      "{'y_pred': array([183381.1824]), 'y_proba': None}\n"
     ]
    }
   ],
   "source": [
    "# predict\n",
    "country = 'all'\n",
    "year = '2018'\n",
    "month = '01'\n",
    "day = '05'\n",
    "result = model_predict(country, year, month, day)\n",
    "print(result)"
   ]
  }
 ],
 "metadata": {
  "kernelspec": {
   "display_name": "Python 3",
   "language": "python",
   "name": "python3"
  },
  "language_info": {
   "codemirror_mode": {
    "name": "ipython",
    "version": 3
   },
   "file_extension": ".py",
   "mimetype": "text/x-python",
   "name": "python",
   "nbconvert_exporter": "python",
   "pygments_lexer": "ipython3",
   "version": "3.9.10"
  }
 },
 "nbformat": 4,
 "nbformat_minor": 2
}
